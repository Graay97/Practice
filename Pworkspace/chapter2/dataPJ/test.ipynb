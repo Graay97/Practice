{
 "cells": [
  {
   "cell_type": "code",
   "execution_count": 3,
   "metadata": {},
   "outputs": [
    {
     "name": "stderr",
     "output_type": "stream",
     "text": [
      "BokehDeprecationWarning: 'circle() method with size value' was deprecated in Bokeh 3.4.0 and will be removed, use 'scatter(size=...) instead' instead.\n"
     ]
    }
   ],
   "source": [
    "from bokeh.plotting import figure, output_file, show\n",
    "from bokeh.models import TapTool, CustomJS, ColumnDataSource\n",
    "import pandas as pd\n",
    "\n",
    "# HTML 파일로 출력\n",
    "output_file(\"interactive_plot.html\")\n",
    "\n",
    "# 샘플 데이터 생성\n",
    "df = pd.DataFrame({\n",
    "    '날짜': pd.date_range('2023-01-01', periods=10),\n",
    "    '값': [10, 12, 15, 14, 17, 19, 21, 20, 22, 25]\n",
    "})\n",
    "\n",
    "source = ColumnDataSource(df)\n",
    "\n",
    "# Bokeh로 선 그래프 생성\n",
    "p = figure(x_axis_type=\"datetime\", title=\"인터랙티브 선 그래프\", width=800, height=400, tools=\"tap\")\n",
    "\n",
    "# 선 그래프 추가\n",
    "p.line(x='날짜', y='값', source=source, line_width=2)\n",
    "\n",
    "# 마커 추가\n",
    "p.circle(x='날짜', y='값', source=source, size=8, color=\"red\", alpha=0.6)\n",
    "\n",
    "# 클릭된 데이터의 정보를 콘솔에 출력하는 JavaScript 콜백 추가\n",
    "tap_callback = CustomJS(args=dict(source=source), code=\"\"\"\n",
    "    var indices = cb_obj.indices;\n",
    "    if (indices.length > 0) {\n",
    "        var data = source.data;\n",
    "        var x = data['날짜'][indices[0]].toLocaleString();  // 날짜 형식을 문자열로 변환\n",
    "        var y = data['값'][indices[0]];\n",
    "        alert('날짜: ' + x + '\\\\n값: ' + y);\n",
    "    }\n",
    "\"\"\")\n",
    "\n",
    "# TapTool에 콜백 추가\n",
    "p.js_on_event('tap', tap_callback)\n",
    "\n",
    "# 그래프 출력\n",
    "show(p)\n"
   ]
  }
 ],
 "metadata": {
  "kernelspec": {
   "display_name": "dataPJ",
   "language": "python",
   "name": "python3"
  },
  "language_info": {
   "codemirror_mode": {
    "name": "ipython",
    "version": 3
   },
   "file_extension": ".py",
   "mimetype": "text/x-python",
   "name": "python",
   "nbconvert_exporter": "python",
   "pygments_lexer": "ipython3",
   "version": "3.12.5"
  }
 },
 "nbformat": 4,
 "nbformat_minor": 2
}
